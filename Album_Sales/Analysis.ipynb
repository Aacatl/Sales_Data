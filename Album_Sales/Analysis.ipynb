{
 "cells": [
  {
   "cell_type": "code",
   "execution_count": 1,
   "id": "965ca9cf",
   "metadata": {},
   "outputs": [],
   "source": [
    "import pandas as pd"
   ]
  },
  {
   "cell_type": "markdown",
   "id": "107b3777",
   "metadata": {},
   "source": [
    "#### DATA"
   ]
  },
  {
   "cell_type": "code",
   "execution_count": 2,
   "id": "7ce03837",
   "metadata": {},
   "outputs": [
    {
     "data": {
      "text/html": [
       "<div>\n",
       "<style scoped>\n",
       "    .dataframe tbody tr th:only-of-type {\n",
       "        vertical-align: middle;\n",
       "    }\n",
       "\n",
       "    .dataframe tbody tr th {\n",
       "        vertical-align: top;\n",
       "    }\n",
       "\n",
       "    .dataframe thead th {\n",
       "        text-align: right;\n",
       "    }\n",
       "</style>\n",
       "<table border=\"1\" class=\"dataframe\">\n",
       "  <thead>\n",
       "    <tr style=\"text-align: right;\">\n",
       "      <th></th>\n",
       "      <th>ALBUMS</th>\n",
       "      <th>SALES</th>\n",
       "    </tr>\n",
       "  </thead>\n",
       "  <tbody>\n",
       "    <tr>\n",
       "      <th>0</th>\n",
       "      <td>AM (2013)</td>\n",
       "      <td>Sales: 2,710,431</td>\n",
       "    </tr>\n",
       "    <tr>\n",
       "      <th>1</th>\n",
       "      <td>WHATEVER PEOPLE SAY I AM, THAT`S WHAT I`M NOT ...</td>\n",
       "      <td>Sales: 2,601,500</td>\n",
       "    </tr>\n",
       "    <tr>\n",
       "      <th>2</th>\n",
       "      <td>FAVOURITE WORST NIGHTMARE (2007)</td>\n",
       "      <td>Sales: 1,081,429</td>\n",
       "    </tr>\n",
       "    <tr>\n",
       "      <th>3</th>\n",
       "      <td>HUMBUG (2009)</td>\n",
       "      <td>Sales: 300,000</td>\n",
       "    </tr>\n",
       "    <tr>\n",
       "      <th>4</th>\n",
       "      <td>SUCK IT AND SEE (2011)</td>\n",
       "      <td>Sales: 300,000</td>\n",
       "    </tr>\n",
       "  </tbody>\n",
       "</table>\n",
       "</div>"
      ],
      "text/plain": [
       "                                              ALBUMS             SALES\n",
       "0                                          AM (2013)  Sales: 2,710,431\n",
       "1  WHATEVER PEOPLE SAY I AM, THAT`S WHAT I`M NOT ...  Sales: 2,601,500\n",
       "2                   FAVOURITE WORST NIGHTMARE (2007)  Sales: 1,081,429\n",
       "3                                      HUMBUG (2009)    Sales: 300,000\n",
       "4                             SUCK IT AND SEE (2011)    Sales: 300,000"
      ]
     },
     "execution_count": 2,
     "metadata": {},
     "output_type": "execute_result"
    }
   ],
   "source": [
    "df = pd.read_csv(\"./album_sales_AM.CSV\")\n",
    "df.head()"
   ]
  },
  {
   "cell_type": "code",
   "execution_count": 3,
   "id": "e280994d",
   "metadata": {},
   "outputs": [
    {
     "data": {
      "text/html": [
       "<div>\n",
       "<style scoped>\n",
       "    .dataframe tbody tr th:only-of-type {\n",
       "        vertical-align: middle;\n",
       "    }\n",
       "\n",
       "    .dataframe tbody tr th {\n",
       "        vertical-align: top;\n",
       "    }\n",
       "\n",
       "    .dataframe thead th {\n",
       "        text-align: right;\n",
       "    }\n",
       "</style>\n",
       "<table border=\"1\" class=\"dataframe\">\n",
       "  <thead>\n",
       "    <tr style=\"text-align: right;\">\n",
       "      <th></th>\n",
       "      <th>ALBUMS</th>\n",
       "      <th>SALES</th>\n",
       "      <th>Sales in USD</th>\n",
       "    </tr>\n",
       "  </thead>\n",
       "  <tbody>\n",
       "    <tr>\n",
       "      <th>0</th>\n",
       "      <td>AM (2013)</td>\n",
       "      <td>Sales: 2,710,431</td>\n",
       "      <td>2,710,431</td>\n",
       "    </tr>\n",
       "    <tr>\n",
       "      <th>1</th>\n",
       "      <td>WHATEVER PEOPLE SAY I AM, THAT`S WHAT I`M NOT ...</td>\n",
       "      <td>Sales: 2,601,500</td>\n",
       "      <td>2,601,500</td>\n",
       "    </tr>\n",
       "    <tr>\n",
       "      <th>2</th>\n",
       "      <td>FAVOURITE WORST NIGHTMARE (2007)</td>\n",
       "      <td>Sales: 1,081,429</td>\n",
       "      <td>1,081,429</td>\n",
       "    </tr>\n",
       "    <tr>\n",
       "      <th>3</th>\n",
       "      <td>HUMBUG (2009)</td>\n",
       "      <td>Sales: 300,000</td>\n",
       "      <td>300,000</td>\n",
       "    </tr>\n",
       "    <tr>\n",
       "      <th>4</th>\n",
       "      <td>SUCK IT AND SEE (2011)</td>\n",
       "      <td>Sales: 300,000</td>\n",
       "      <td>300,000</td>\n",
       "    </tr>\n",
       "  </tbody>\n",
       "</table>\n",
       "</div>"
      ],
      "text/plain": [
       "                                              ALBUMS             SALES  \\\n",
       "0                                          AM (2013)  Sales: 2,710,431   \n",
       "1  WHATEVER PEOPLE SAY I AM, THAT`S WHAT I`M NOT ...  Sales: 2,601,500   \n",
       "2                   FAVOURITE WORST NIGHTMARE (2007)  Sales: 1,081,429   \n",
       "3                                      HUMBUG (2009)    Sales: 300,000   \n",
       "4                             SUCK IT AND SEE (2011)    Sales: 300,000   \n",
       "\n",
       "  Sales in USD  \n",
       "0    2,710,431  \n",
       "1    2,601,500  \n",
       "2    1,081,429  \n",
       "3      300,000  \n",
       "4      300,000  "
      ]
     },
     "execution_count": 3,
     "metadata": {},
     "output_type": "execute_result"
    }
   ],
   "source": [
    "df['Sales in USD'] = df['SALES'].apply(lambda x: x.split(':')[1])\n",
    "df.head()"
   ]
  },
  {
   "cell_type": "code",
   "execution_count": 4,
   "id": "7452cf6a",
   "metadata": {},
   "outputs": [
    {
     "data": {
      "text/html": [
       "<div>\n",
       "<style scoped>\n",
       "    .dataframe tbody tr th:only-of-type {\n",
       "        vertical-align: middle;\n",
       "    }\n",
       "\n",
       "    .dataframe tbody tr th {\n",
       "        vertical-align: top;\n",
       "    }\n",
       "\n",
       "    .dataframe thead th {\n",
       "        text-align: right;\n",
       "    }\n",
       "</style>\n",
       "<table border=\"1\" class=\"dataframe\">\n",
       "  <thead>\n",
       "    <tr style=\"text-align: right;\">\n",
       "      <th></th>\n",
       "      <th>ALBUMS</th>\n",
       "      <th>SALES</th>\n",
       "      <th>Sales in USD</th>\n",
       "      <th>Albums</th>\n",
       "    </tr>\n",
       "  </thead>\n",
       "  <tbody>\n",
       "    <tr>\n",
       "      <th>0</th>\n",
       "      <td>AM (2013)</td>\n",
       "      <td>Sales: 2,710,431</td>\n",
       "      <td>2,710,431</td>\n",
       "      <td>AM (2013)</td>\n",
       "    </tr>\n",
       "    <tr>\n",
       "      <th>1</th>\n",
       "      <td>WHATEVER PEOPLE SAY I AM, THAT`S WHAT I`M NOT ...</td>\n",
       "      <td>Sales: 2,601,500</td>\n",
       "      <td>2,601,500</td>\n",
       "      <td>WHATEVER PEOPLE SAY I AM, THAT`S WHAT I`M NOT ...</td>\n",
       "    </tr>\n",
       "    <tr>\n",
       "      <th>2</th>\n",
       "      <td>FAVOURITE WORST NIGHTMARE (2007)</td>\n",
       "      <td>Sales: 1,081,429</td>\n",
       "      <td>1,081,429</td>\n",
       "      <td>FAVOURITE WORST NIGHTMARE (2007)</td>\n",
       "    </tr>\n",
       "    <tr>\n",
       "      <th>3</th>\n",
       "      <td>HUMBUG (2009)</td>\n",
       "      <td>Sales: 300,000</td>\n",
       "      <td>300,000</td>\n",
       "      <td>HUMBUG (2009)</td>\n",
       "    </tr>\n",
       "    <tr>\n",
       "      <th>4</th>\n",
       "      <td>SUCK IT AND SEE (2011)</td>\n",
       "      <td>Sales: 300,000</td>\n",
       "      <td>300,000</td>\n",
       "      <td>SUCK IT AND SEE (2011)</td>\n",
       "    </tr>\n",
       "  </tbody>\n",
       "</table>\n",
       "</div>"
      ],
      "text/plain": [
       "                                              ALBUMS             SALES  \\\n",
       "0                                          AM (2013)  Sales: 2,710,431   \n",
       "1  WHATEVER PEOPLE SAY I AM, THAT`S WHAT I`M NOT ...  Sales: 2,601,500   \n",
       "2                   FAVOURITE WORST NIGHTMARE (2007)  Sales: 1,081,429   \n",
       "3                                      HUMBUG (2009)    Sales: 300,000   \n",
       "4                             SUCK IT AND SEE (2011)    Sales: 300,000   \n",
       "\n",
       "  Sales in USD                                             Albums  \n",
       "0    2,710,431                                          AM (2013)  \n",
       "1    2,601,500  WHATEVER PEOPLE SAY I AM, THAT`S WHAT I`M NOT ...  \n",
       "2    1,081,429                   FAVOURITE WORST NIGHTMARE (2007)  \n",
       "3      300,000                                      HUMBUG (2009)  \n",
       "4      300,000                             SUCK IT AND SEE (2011)  "
      ]
     },
     "execution_count": 4,
     "metadata": {},
     "output_type": "execute_result"
    }
   ],
   "source": [
    "df['Albums'] = df['ALBUMS']\n",
    "df.head()"
   ]
  },
  {
   "cell_type": "code",
   "execution_count": 5,
   "id": "288c05de",
   "metadata": {},
   "outputs": [
    {
     "name": "stderr",
     "output_type": "stream",
     "text": [
      "C:\\Users\\Aacatl\\AppData\\Local\\Temp\\ipykernel_11328\\3335584156.py:3: FutureWarning: In a future version of pandas, a length 1 tuple will be returned when iterating over a groupby with a grouper equal to a list of length 1. Don't supply a list with a single grouper to avoid this warning.\n",
      "  keys = [album for album, df in df.groupby(['Albums'])]\n"
     ]
    },
    {
     "data": {
      "image/png": "[encoded data removed]",
      "text/plain": [
       "<Figure size 640x480 with 1 Axes>"
      ]
     },
     "metadata": {},
     "output_type": "display_data"
    }
   ],
   "source": [
    "import matplotlib.pyplot as plt\n",
    "\n",
    "keys = [album for album, df in df.groupby(['Albums'])]\n",
    "\n",
    "plt.bar(keys,df.groupby(['Albums'])['Sales in USD'].sum())\n",
    "plt.ylabel('Sales in USD ($)')\n",
    "plt.xlabel('Album')\n",
    "plt.xticks(keys, rotation='vertical', size=8)\n",
    "plt.show()"
   ]
  }
 ],
 "metadata": {
  "kernelspec": {
   "display_name": "Python 3 (ipykernel)",
   "language": "python",
   "name": "python3"
  },
  "language_info": {
   "codemirror_mode": {
    "name": "ipython",
    "version": 3
   },
   "file_extension": ".py",
   "mimetype": "text/x-python",
   "name": "python",
   "nbconvert_exporter": "python",
   "pygments_lexer": "ipython3",
   "version": "3.9.6"
  },
  "vscode": {
   "interpreter": {
    "hash": "a9be29c54895bcccdca9025b49c42b3e60cb4da4abedefad40004b58b214a972"
   }
  }
 },
 "nbformat": 4,
 "nbformat_minor": 5
}
